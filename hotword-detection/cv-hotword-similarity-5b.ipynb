{
 "cells": [
  {
   "cell_type": "code",
   "execution_count": 9,
   "metadata": {},
   "outputs": [
    {
     "name": "stdout",
     "output_type": "stream",
     "text": [
      "Requirement already satisfied: InstructorEmbedding in /home/shreyas/Desktop/technical-test/asr-train/venv/lib/python3.10/site-packages (1.0.1)\n",
      "Collecting sentence-transformers==2.2.2\n",
      "  Using cached sentence-transformers-2.2.2.tar.gz (85 kB)\n",
      "  Preparing metadata (setup.py) ... \u001b[?25ldone\n",
      "\u001b[?25hRequirement already satisfied: huggingface-hub>=0.4.0 in /home/shreyas/Desktop/technical-test/asr-train/venv/lib/python3.10/site-packages (from sentence-transformers==2.2.2) (0.25.0)\n",
      "Requirement already satisfied: nltk in /home/shreyas/Desktop/technical-test/asr-train/venv/lib/python3.10/site-packages (from sentence-transformers==2.2.2) (3.9.1)\n",
      "Requirement already satisfied: numpy in /home/shreyas/Desktop/technical-test/asr-train/venv/lib/python3.10/site-packages (from sentence-transformers==2.2.2) (2.1.3)\n",
      "Requirement already satisfied: scikit-learn in /home/shreyas/Desktop/technical-test/asr-train/venv/lib/python3.10/site-packages (from sentence-transformers==2.2.2) (1.6.1)\n",
      "Requirement already satisfied: scipy in /home/shreyas/Desktop/technical-test/asr-train/venv/lib/python3.10/site-packages (from sentence-transformers==2.2.2) (1.15.2)\n",
      "Requirement already satisfied: sentencepiece in /home/shreyas/Desktop/technical-test/asr-train/venv/lib/python3.10/site-packages (from sentence-transformers==2.2.2) (0.2.0)\n",
      "Requirement already satisfied: torch>=1.6.0 in /home/shreyas/Desktop/technical-test/asr-train/venv/lib/python3.10/site-packages (from sentence-transformers==2.2.2) (2.6.0)\n",
      "Requirement already satisfied: torchvision in /home/shreyas/Desktop/technical-test/asr-train/venv/lib/python3.10/site-packages (from sentence-transformers==2.2.2) (0.21.0)\n",
      "Requirement already satisfied: tqdm in /home/shreyas/Desktop/technical-test/asr-train/venv/lib/python3.10/site-packages (from sentence-transformers==2.2.2) (4.67.1)\n",
      "Collecting transformers<5.0.0,>=4.6.0\n",
      "  Using cached transformers-4.49.0-py3-none-any.whl (10.0 MB)\n",
      "Requirement already satisfied: fsspec>=2023.5.0 in /home/shreyas/Desktop/technical-test/asr-train/venv/lib/python3.10/site-packages (from huggingface-hub>=0.4.0->sentence-transformers==2.2.2) (2024.12.0)\n",
      "Requirement already satisfied: packaging>=20.9 in /home/shreyas/Desktop/technical-test/asr-train/venv/lib/python3.10/site-packages (from huggingface-hub>=0.4.0->sentence-transformers==2.2.2) (24.2)\n",
      "Requirement already satisfied: requests in /home/shreyas/Desktop/technical-test/asr-train/venv/lib/python3.10/site-packages (from huggingface-hub>=0.4.0->sentence-transformers==2.2.2) (2.32.3)\n",
      "Requirement already satisfied: typing-extensions>=3.7.4.3 in /home/shreyas/Desktop/technical-test/asr-train/venv/lib/python3.10/site-packages (from huggingface-hub>=0.4.0->sentence-transformers==2.2.2) (4.12.2)\n",
      "Requirement already satisfied: pyyaml>=5.1 in /home/shreyas/Desktop/technical-test/asr-train/venv/lib/python3.10/site-packages (from huggingface-hub>=0.4.0->sentence-transformers==2.2.2) (6.0.2)\n",
      "Requirement already satisfied: filelock in /home/shreyas/Desktop/technical-test/asr-train/venv/lib/python3.10/site-packages (from huggingface-hub>=0.4.0->sentence-transformers==2.2.2) (3.17.0)\n",
      "Requirement already satisfied: nvidia-cublas-cu12==12.4.5.8 in /home/shreyas/Desktop/technical-test/asr-train/venv/lib/python3.10/site-packages (from torch>=1.6.0->sentence-transformers==2.2.2) (12.4.5.8)\n",
      "Requirement already satisfied: nvidia-nccl-cu12==2.21.5 in /home/shreyas/Desktop/technical-test/asr-train/venv/lib/python3.10/site-packages (from torch>=1.6.0->sentence-transformers==2.2.2) (2.21.5)\n",
      "Requirement already satisfied: nvidia-cusparselt-cu12==0.6.2 in /home/shreyas/Desktop/technical-test/asr-train/venv/lib/python3.10/site-packages (from torch>=1.6.0->sentence-transformers==2.2.2) (0.6.2)\n",
      "Requirement already satisfied: networkx in /home/shreyas/Desktop/technical-test/asr-train/venv/lib/python3.10/site-packages (from torch>=1.6.0->sentence-transformers==2.2.2) (3.4.2)\n",
      "Requirement already satisfied: nvidia-cuda-nvrtc-cu12==12.4.127 in /home/shreyas/Desktop/technical-test/asr-train/venv/lib/python3.10/site-packages (from torch>=1.6.0->sentence-transformers==2.2.2) (12.4.127)\n",
      "Requirement already satisfied: triton==3.2.0 in /home/shreyas/Desktop/technical-test/asr-train/venv/lib/python3.10/site-packages (from torch>=1.6.0->sentence-transformers==2.2.2) (3.2.0)\n",
      "Requirement already satisfied: nvidia-nvjitlink-cu12==12.4.127 in /home/shreyas/Desktop/technical-test/asr-train/venv/lib/python3.10/site-packages (from torch>=1.6.0->sentence-transformers==2.2.2) (12.4.127)\n",
      "Requirement already satisfied: nvidia-cuda-cupti-cu12==12.4.127 in /home/shreyas/Desktop/technical-test/asr-train/venv/lib/python3.10/site-packages (from torch>=1.6.0->sentence-transformers==2.2.2) (12.4.127)\n",
      "Requirement already satisfied: nvidia-curand-cu12==10.3.5.147 in /home/shreyas/Desktop/technical-test/asr-train/venv/lib/python3.10/site-packages (from torch>=1.6.0->sentence-transformers==2.2.2) (10.3.5.147)\n",
      "Requirement already satisfied: sympy==1.13.1 in /home/shreyas/Desktop/technical-test/asr-train/venv/lib/python3.10/site-packages (from torch>=1.6.0->sentence-transformers==2.2.2) (1.13.1)\n",
      "Requirement already satisfied: nvidia-cudnn-cu12==9.1.0.70 in /home/shreyas/Desktop/technical-test/asr-train/venv/lib/python3.10/site-packages (from torch>=1.6.0->sentence-transformers==2.2.2) (9.1.0.70)\n",
      "Requirement already satisfied: nvidia-cuda-runtime-cu12==12.4.127 in /home/shreyas/Desktop/technical-test/asr-train/venv/lib/python3.10/site-packages (from torch>=1.6.0->sentence-transformers==2.2.2) (12.4.127)\n",
      "Requirement already satisfied: nvidia-nvtx-cu12==12.4.127 in /home/shreyas/Desktop/technical-test/asr-train/venv/lib/python3.10/site-packages (from torch>=1.6.0->sentence-transformers==2.2.2) (12.4.127)\n",
      "Requirement already satisfied: nvidia-cusparse-cu12==12.3.1.170 in /home/shreyas/Desktop/technical-test/asr-train/venv/lib/python3.10/site-packages (from torch>=1.6.0->sentence-transformers==2.2.2) (12.3.1.170)\n",
      "Requirement already satisfied: nvidia-cusolver-cu12==11.6.1.9 in /home/shreyas/Desktop/technical-test/asr-train/venv/lib/python3.10/site-packages (from torch>=1.6.0->sentence-transformers==2.2.2) (11.6.1.9)\n",
      "Requirement already satisfied: nvidia-cufft-cu12==11.2.1.3 in /home/shreyas/Desktop/technical-test/asr-train/venv/lib/python3.10/site-packages (from torch>=1.6.0->sentence-transformers==2.2.2) (11.2.1.3)\n",
      "Requirement already satisfied: jinja2 in /home/shreyas/Desktop/technical-test/asr-train/venv/lib/python3.10/site-packages (from torch>=1.6.0->sentence-transformers==2.2.2) (3.1.5)\n",
      "Requirement already satisfied: mpmath<1.4,>=1.1.0 in /home/shreyas/Desktop/technical-test/asr-train/venv/lib/python3.10/site-packages (from sympy==1.13.1->torch>=1.6.0->sentence-transformers==2.2.2) (1.3.0)\n",
      "Collecting tokenizers<0.22,>=0.21\n",
      "  Using cached tokenizers-0.21.0-cp39-abi3-manylinux_2_17_x86_64.manylinux2014_x86_64.whl (3.0 MB)\n",
      "Requirement already satisfied: regex!=2019.12.17 in /home/shreyas/Desktop/technical-test/asr-train/venv/lib/python3.10/site-packages (from transformers<5.0.0,>=4.6.0->sentence-transformers==2.2.2) (2024.11.6)\n",
      "Requirement already satisfied: safetensors>=0.4.1 in /home/shreyas/Desktop/technical-test/asr-train/venv/lib/python3.10/site-packages (from transformers<5.0.0,>=4.6.0->sentence-transformers==2.2.2) (0.5.3)\n",
      "Collecting huggingface-hub>=0.4.0\n",
      "  Using cached huggingface_hub-0.29.1-py3-none-any.whl (468 kB)\n",
      "Requirement already satisfied: joblib in /home/shreyas/Desktop/technical-test/asr-train/venv/lib/python3.10/site-packages (from nltk->sentence-transformers==2.2.2) (1.4.2)\n",
      "Requirement already satisfied: click in /home/shreyas/Desktop/technical-test/asr-train/venv/lib/python3.10/site-packages (from nltk->sentence-transformers==2.2.2) (8.1.8)\n",
      "Requirement already satisfied: threadpoolctl>=3.1.0 in /home/shreyas/Desktop/technical-test/asr-train/venv/lib/python3.10/site-packages (from scikit-learn->sentence-transformers==2.2.2) (3.5.0)\n",
      "Requirement already satisfied: pillow!=8.3.*,>=5.3.0 in /home/shreyas/Desktop/technical-test/asr-train/venv/lib/python3.10/site-packages (from torchvision->sentence-transformers==2.2.2) (11.1.0)\n",
      "Requirement already satisfied: MarkupSafe>=2.0 in /home/shreyas/Desktop/technical-test/asr-train/venv/lib/python3.10/site-packages (from jinja2->torch>=1.6.0->sentence-transformers==2.2.2) (3.0.2)\n",
      "Requirement already satisfied: certifi>=2017.4.17 in /home/shreyas/Desktop/technical-test/asr-train/venv/lib/python3.10/site-packages (from requests->huggingface-hub>=0.4.0->sentence-transformers==2.2.2) (2025.1.31)\n",
      "Requirement already satisfied: charset-normalizer<4,>=2 in /home/shreyas/Desktop/technical-test/asr-train/venv/lib/python3.10/site-packages (from requests->huggingface-hub>=0.4.0->sentence-transformers==2.2.2) (3.4.1)\n",
      "Requirement already satisfied: urllib3<3,>=1.21.1 in /home/shreyas/Desktop/technical-test/asr-train/venv/lib/python3.10/site-packages (from requests->huggingface-hub>=0.4.0->sentence-transformers==2.2.2) (2.3.0)\n",
      "Requirement already satisfied: idna<4,>=2.5 in /home/shreyas/Desktop/technical-test/asr-train/venv/lib/python3.10/site-packages (from requests->huggingface-hub>=0.4.0->sentence-transformers==2.2.2) (3.10)\n",
      "Using legacy 'setup.py install' for sentence-transformers, since package 'wheel' is not installed.\n",
      "Installing collected packages: huggingface-hub, tokenizers, transformers, sentence-transformers\n",
      "  Attempting uninstall: huggingface-hub\n",
      "    Found existing installation: huggingface-hub 0.25.0\n",
      "    Uninstalling huggingface-hub-0.25.0:\n",
      "      Successfully uninstalled huggingface-hub-0.25.0\n",
      "  Running setup.py install for sentence-transformers ... \u001b[?25ldone\n",
      "\u001b[?25hSuccessfully installed huggingface-hub-0.29.1 sentence-transformers-2.2.2 tokenizers-0.21.0 transformers-4.49.0\n"
     ]
    }
   ],
   "source": [
    "!pip install InstructorEmbedding\n",
    "!pip install sentence-transformers==2.2.2"
   ]
  },
  {
   "cell_type": "code",
   "execution_count": 30,
   "metadata": {},
   "outputs": [],
   "source": [
    "# import packages\n",
    "import pandas as pd\n",
    "import numpy as np\n",
    "from InstructorEmbedding import INSTRUCTOR"
   ]
  },
  {
   "cell_type": "code",
   "execution_count": 35,
   "metadata": {},
   "outputs": [
    {
     "data": {
      "text/html": [
       "<div>\n",
       "<style scoped>\n",
       "    .dataframe tbody tr th:only-of-type {\n",
       "        vertical-align: middle;\n",
       "    }\n",
       "\n",
       "    .dataframe tbody tr th {\n",
       "        vertical-align: top;\n",
       "    }\n",
       "\n",
       "    .dataframe thead th {\n",
       "        text-align: right;\n",
       "    }\n",
       "</style>\n",
       "<table border=\"1\" class=\"dataframe\">\n",
       "  <thead>\n",
       "    <tr style=\"text-align: right;\">\n",
       "      <th></th>\n",
       "      <th>filename</th>\n",
       "      <th>text</th>\n",
       "      <th>up_votes</th>\n",
       "      <th>down_votes</th>\n",
       "      <th>age</th>\n",
       "      <th>gender</th>\n",
       "      <th>accent</th>\n",
       "      <th>duration</th>\n",
       "    </tr>\n",
       "  </thead>\n",
       "  <tbody>\n",
       "    <tr>\n",
       "      <th>0</th>\n",
       "      <td>cv-valid-dev/sample-000000.mp3</td>\n",
       "      <td>be careful with your prognostications said the...</td>\n",
       "      <td>1</td>\n",
       "      <td>0</td>\n",
       "      <td>NaN</td>\n",
       "      <td>NaN</td>\n",
       "      <td>NaN</td>\n",
       "      <td>NaN</td>\n",
       "    </tr>\n",
       "    <tr>\n",
       "      <th>1</th>\n",
       "      <td>cv-valid-dev/sample-000001.mp3</td>\n",
       "      <td>then why should they be surprised when they se...</td>\n",
       "      <td>2</td>\n",
       "      <td>0</td>\n",
       "      <td>NaN</td>\n",
       "      <td>NaN</td>\n",
       "      <td>NaN</td>\n",
       "      <td>NaN</td>\n",
       "    </tr>\n",
       "    <tr>\n",
       "      <th>2</th>\n",
       "      <td>cv-valid-dev/sample-000002.mp3</td>\n",
       "      <td>a young arab also loaded down with baggage ent...</td>\n",
       "      <td>2</td>\n",
       "      <td>0</td>\n",
       "      <td>NaN</td>\n",
       "      <td>NaN</td>\n",
       "      <td>NaN</td>\n",
       "      <td>NaN</td>\n",
       "    </tr>\n",
       "    <tr>\n",
       "      <th>3</th>\n",
       "      <td>cv-valid-dev/sample-000003.mp3</td>\n",
       "      <td>i thought that everything i owned would be des...</td>\n",
       "      <td>3</td>\n",
       "      <td>0</td>\n",
       "      <td>NaN</td>\n",
       "      <td>NaN</td>\n",
       "      <td>NaN</td>\n",
       "      <td>NaN</td>\n",
       "    </tr>\n",
       "    <tr>\n",
       "      <th>4</th>\n",
       "      <td>cv-valid-dev/sample-000004.mp3</td>\n",
       "      <td>he moved about invisible but everyone could he...</td>\n",
       "      <td>1</td>\n",
       "      <td>0</td>\n",
       "      <td>fourties</td>\n",
       "      <td>female</td>\n",
       "      <td>england</td>\n",
       "      <td>NaN</td>\n",
       "    </tr>\n",
       "  </tbody>\n",
       "</table>\n",
       "</div>"
      ],
      "text/plain": [
       "                         filename  \\\n",
       "0  cv-valid-dev/sample-000000.mp3   \n",
       "1  cv-valid-dev/sample-000001.mp3   \n",
       "2  cv-valid-dev/sample-000002.mp3   \n",
       "3  cv-valid-dev/sample-000003.mp3   \n",
       "4  cv-valid-dev/sample-000004.mp3   \n",
       "\n",
       "                                                text  up_votes  down_votes  \\\n",
       "0  be careful with your prognostications said the...         1           0   \n",
       "1  then why should they be surprised when they se...         2           0   \n",
       "2  a young arab also loaded down with baggage ent...         2           0   \n",
       "3  i thought that everything i owned would be des...         3           0   \n",
       "4  he moved about invisible but everyone could he...         1           0   \n",
       "\n",
       "        age  gender   accent  duration  \n",
       "0       NaN     NaN      NaN       NaN  \n",
       "1       NaN     NaN      NaN       NaN  \n",
       "2       NaN     NaN      NaN       NaN  \n",
       "3       NaN     NaN      NaN       NaN  \n",
       "4  fourties  female  england       NaN  "
      ]
     },
     "execution_count": 35,
     "metadata": {},
     "output_type": "execute_result"
    }
   ],
   "source": [
    "valid_df = pd.read_csv('./cv-valid-dev.csv')\n",
    "valid_df.head()"
   ]
  },
  {
   "cell_type": "code",
   "execution_count": 36,
   "metadata": {},
   "outputs": [
    {
     "data": {
      "text/plain": [
       "(4076, 8)"
      ]
     },
     "execution_count": 36,
     "metadata": {},
     "output_type": "execute_result"
    }
   ],
   "source": [
    "valid_df.shape"
   ]
  },
  {
   "cell_type": "code",
   "execution_count": 37,
   "metadata": {},
   "outputs": [
    {
     "name": "stdout",
     "output_type": "stream",
     "text": [
      "load INSTRUCTOR_Transformer\n",
      "max_seq_length  512\n"
     ]
    }
   ],
   "source": [
    "from sklearn.metrics.pairwise import cosine_similarity\n",
    "\n",
    "HOTWORDS = ['be careful','destroy', 'stranger']\n",
    "model = INSTRUCTOR('hkunlp/instructor-large')"
   ]
  },
  {
   "cell_type": "code",
   "execution_count": null,
   "metadata": {},
   "outputs": [],
   "source": [
    "def find_similar_records(record):\n",
    "    query = [\n",
    "        ['Represent the hotwords for retrieving sentences with similar word: ', HOTWORDS[0]],\n",
    "        ['Represent the hotwords for retrieving sentences with similar word: ', HOTWORDS[1]],\n",
    "        ['Represent the hotwords for retrieving sentences with similar word: ', HOTWORDS[2]]\n",
    "    ]\n",
    "    record = [['Represent the record for retrieving sentences with similar words: ', record]*3]\n",
    "\n",
    "    query_embedding = model.encode(query)\n",
    "    record_embedding = model.encode(record)\n",
    "    similarity = cosine_similarity(query_embedding, record_embedding)\n",
    "    if np.argmax(similarity) >= 0.85:\n",
    "        return True\n",
    "    return False\n",
    "\n",
    "valid_df['similarity'] = valid_df['text'].apply(find_similar_records)"
   ]
  },
  {
   "cell_type": "code",
   "execution_count": 49,
   "metadata": {},
   "outputs": [
    {
     "data": {
      "text/plain": [
       "array(['be careful with your prognostications said the stranger',\n",
       "       'a young arab also loaded down with baggage entered and greeted the englishman',\n",
       "       'i thought that everything i owned would be destroyed', ...,\n",
       "       'he was thinking about omens and someone had appeared',\n",
       "       'but they could never have taught him arabic',\n",
       "       'just handling them made him feel better'], dtype=object)"
      ]
     },
     "execution_count": 49,
     "metadata": {},
     "output_type": "execute_result"
    }
   ],
   "source": [
    "valid_df[valid_df['similarity'] == True]['text'].values"
   ]
  },
  {
   "cell_type": "code",
   "execution_count": 50,
   "metadata": {},
   "outputs": [],
   "source": [
    "valid_df.to_csv('cv-valid-dev.csv', index=False)"
   ]
  },
  {
   "cell_type": "code",
   "execution_count": null,
   "metadata": {},
   "outputs": [],
   "source": []
  }
 ],
 "metadata": {
  "kernelspec": {
   "display_name": "fine-tune",
   "language": "python",
   "name": "fine-tune"
  },
  "language_info": {
   "codemirror_mode": {
    "name": "ipython",
    "version": 3
   },
   "file_extension": ".py",
   "mimetype": "text/x-python",
   "name": "python",
   "nbconvert_exporter": "python",
   "pygments_lexer": "ipython3",
   "version": "3.10.12"
  }
 },
 "nbformat": 4,
 "nbformat_minor": 2
}
