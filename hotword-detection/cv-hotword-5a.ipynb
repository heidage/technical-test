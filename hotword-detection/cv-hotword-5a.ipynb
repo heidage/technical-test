{
 "cells": [
  {
   "cell_type": "code",
   "execution_count": null,
   "metadata": {},
   "outputs": [],
   "source": [
    "import pandas as pd"
   ]
  },
  {
   "cell_type": "code",
   "execution_count": null,
   "metadata": {},
   "outputs": [],
   "source": [
    "# load data\n",
    "df = pd.read_csv(\"/home/shreyas/Desktop/common_voice/cv-valid-test.csv\")\n",
    "df.head()"
   ]
  },
  {
   "cell_type": "code",
   "execution_count": null,
   "metadata": {},
   "outputs": [],
   "source": [
    "# hotword detection\n",
    "HOTWORDS = ['be careful', 'destroy','stranger']\n",
    "df['hotword_present'] = df['transcription'].apply(lambda x: any([word in x for word in HOTWORDS]))\n",
    "df['hotword'] = df['transcription'].apply(lambda x: [word for word in HOTWORDS if word in x])\n",
    "\n",
    "# get file name and hotword with hotword==True\n",
    "df_hotword = df[df['hotword_present'==True]]\n",
    "\n",
    "# save to text file\n",
    "filenames = df_hotword['filename'].tolist()\n",
    "hotwords = df_hotword['hotword'].tolist()\n",
    "\n",
    "with open('detected.txt', 'w') as f:\n",
    "    for filename, hotword in zip(filenames, hotwords):\n",
    "        f.write(f\"{filename}: {hotword}\\n\")\n"
   ]
  },
  {
   "cell_type": "code",
   "execution_count": null,
   "metadata": {},
   "outputs": [],
   "source": []
  }
 ],
 "metadata": {
  "kernelspec": {
   "display_name": "fine-tune",
   "language": "python",
   "name": "fine-tune"
  },
  "language_info": {
   "name": "python",
   "version": "3.10.12"
  }
 },
 "nbformat": 4,
 "nbformat_minor": 2
}
